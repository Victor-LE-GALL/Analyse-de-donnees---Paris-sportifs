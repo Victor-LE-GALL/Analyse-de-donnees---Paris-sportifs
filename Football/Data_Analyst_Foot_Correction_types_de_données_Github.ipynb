{
  "nbformat": 4,
  "nbformat_minor": 0,
  "metadata": {
    "colab": {
      "name": "Data Analyst Foot - Correction types de données - Github",
      "provenance": [],
      "mount_file_id": "14GawdoIyZUB49ou0ORyBWpRujGQzacig",
      "authorship_tag": "ABX9TyNRy1cU2lbKWEDfEejDtirb",
      "include_colab_link": true
    },
    "kernelspec": {
      "name": "python3",
      "display_name": "Python 3"
    },
    "language_info": {
      "name": "python"
    }
  },
  "cells": [
    {
      "cell_type": "markdown",
      "metadata": {
        "id": "view-in-github",
        "colab_type": "text"
      },
      "source": [
        "<a href=\"https://colab.research.google.com/github/Victor-LE-GALL/Projet-Data-Analyst/blob/main/Data_Analyst_Foot_Correction_types_de_donn%C3%A9es_Github.ipynb\" target=\"_parent\"><img src=\"https://colab.research.google.com/assets/colab-badge.svg\" alt=\"Open In Colab\"/></a>"
      ]
    },
    {
      "cell_type": "code",
      "execution_count": null,
      "metadata": {
        "id": "D2JU-vbLV9-t"
      },
      "outputs": [],
      "source": [
        "# import de la libaririe pandas\n",
        "import pandas as pd\n",
        "\n",
        "# import du fichier csv (après modification des données sur Excel)\n",
        "df=pd.read_csv('Classeur1.csv', sep=';', encoding = \"ISO-8859-1\")"
      ]
    },
    {
      "cell_type": "code",
      "source": [
        "df['Solde_D']=df['Solde_D'].str.replace(',','.')\n",
        "df['Solde_H']=df['Solde_H'].str.replace(',','.')\n",
        "df['Solde_A']=df['Solde_A'].str.replace(',','.')"
      ],
      "metadata": {
        "id": "x3px6iZFgUzL"
      },
      "execution_count": null,
      "outputs": []
    },
    {
      "cell_type": "code",
      "source": [
        "#gestion du problème de format des données\n",
        "print(df.dtypes)\n",
        "df['Solde_H'] = df['Solde_H'].astype(float)\n",
        "df['Solde_D'] = df['Solde_D'].astype(float)\n",
        "df['Solde_A'] = df['Solde_A'].astype(float)\n",
        "print(df.dtypes)"
      ],
      "metadata": {
        "id": "ciIsgmoEalwQ"
      },
      "execution_count": null,
      "outputs": []
    },
    {
      "cell_type": "code",
      "source": [
        "# enregistrement du dataframe opérationnel\n",
        "path_drive='/content/drive/MyDrive/'\n",
        "df.to_csv(path_drive +'df_total_apres_excel.csv', index=False)"
      ],
      "metadata": {
        "id": "fvHFXpuNWaO7"
      },
      "execution_count": null,
      "outputs": []
    }
  ]
}
