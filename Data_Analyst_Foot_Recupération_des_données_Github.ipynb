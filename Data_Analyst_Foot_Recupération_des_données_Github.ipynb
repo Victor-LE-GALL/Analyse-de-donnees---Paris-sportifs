{
  "cells": [
    {
      "cell_type": "markdown",
      "metadata": {
        "id": "view-in-github",
        "colab_type": "text"
      },
      "source": [
        "<a href=\"https://colab.research.google.com/github/Victor-LE-GALL/Projet-Data-Analyst/blob/main/Data_Analyst_Foot_Recup%C3%A9ration_des_donn%C3%A9es_Github.ipynb\" target=\"_parent\"><img src=\"https://colab.research.google.com/assets/colab-badge.svg\" alt=\"Open In Colab\"/></a>"
      ]
    },
    {
      "cell_type": "code",
      "source": [
        "# import des librairies\n",
        "import pandas as pd"
      ],
      "metadata": {
        "id": "uJoX1bI5Yhq7"
      },
      "execution_count": null,
      "outputs": []
    },
    {
      "cell_type": "code",
      "execution_count": null,
      "metadata": {
        "id": "8QRKKBOuUPmQ"
      },
      "outputs": [],
      "source": [
        "def dataframe_ligue(pa):   # fonction qui permet de créer un dataframe avec tous les matchs de 2008 à 2022 pour un championnat donné\n",
        "\n",
        "  saisons=[] # liste comprenant toutes les saisons pour un championnats donné\n",
        "\n",
        "  # itération sur les années (de 08/09 à 21/22)\n",
        "  for i in range(8, 21): \n",
        "    if pa!='I2' or i!=18:\n",
        "      if len(str(i))==1:\n",
        "        a1='0'+str(i)\n",
        "      else:\n",
        "        a1=str(i)\n",
        "      if len(str(i+1))==1:\n",
        "        a2='0'+str(i+1)\n",
        "      else:\n",
        "        a2=str(i+1)\n",
        "      ligue_annee=a1+a2\n",
        "\n",
        "      # on récupère le fichier csv pour le championnat donné et l'année calculée et on crée un dataframe\n",
        "      ligue=pd.read_csv('https://www.football-data.co.uk/mmz4281/' + ligue_annee + '/' + pa + '.csv', sep=',', encoding='windows-1254')\n",
        "      saisons.append(ligue)\n",
        "\n",
        "\n",
        "\n",
        "    # création du dataframe qui comprendra tous les matchs de ce championnat\n",
        "    data = {'Championnat':[], 'Saison': [], 'Equipe_H': [], 'Equipe_A': [], 'Résultat': [], 'Cote_H': [], 'Cote_D':[], 'Cote_A': []}  \n",
        "    df = pd.DataFrame(data)  \n",
        "\n",
        "    for j in range(0, len(saisons)):\n",
        "      sais=saisons[j]\n",
        "      for i in range(0, len(sais)):\n",
        "        val_champ=pa\n",
        "        val_saison=str(2008+j)+'/'+str(2008+j+1)\n",
        "        equipe_h=sais.at[i, 'HomeTeam']\n",
        "        equipe_a=sais.at[i, 'AwayTeam']\n",
        "        resultat=sais.at[i, 'FTR']\n",
        "        cote_h=sais.at[i, 'B365H']\n",
        "        cote_d=sais.at[i, 'B365D']\n",
        "        cote_a=sais.at[i, 'B365A']\n",
        "\n",
        "        df = df.append({'Championnat':val_champ, 'Saison': val_saison, 'Equipe_H': equipe_h, 'Equipe_A': equipe_a, 'Résultat': resultat, 'Cote_H': cote_h, 'Cote_D': cote_d, 'Cote_A': cote_a}, ignore_index=True)\n",
        "\n",
        "\n",
        "  # on retourne donc un dataframe comprenant tous les matchs de toutes les saisons (à partir de 2008/2009) pour le championnat passé en paramètre \n",
        "  return df\n"
      ]
    },
    {
      "cell_type": "code",
      "source": [
        "# on appelle la fonction \"dataframe_ligue\" pour les 5 grands championnats européens (première et deuxième division)\n",
        "df_france=dataframe_ligue('F1')\n",
        "df_espagne=dataframe_ligue('SP1')\n",
        "df_italie=dataframe_ligue('I1')\n",
        "df_allemagne=dataframe_ligue('D1')\n",
        "df_angleterre=dataframe_ligue('E0')\n",
        "df_france_2=dataframe_ligue('F2')\n",
        "df_espagne_2=dataframe_ligue('SP2')\n",
        "df_italie_2=dataframe_ligue('I2')\n",
        "df_allemagne_2=dataframe_ligue('D2')\n",
        "df_angleterre_2=dataframe_ligue('E1')"
      ],
      "metadata": {
        "id": "xkbS7UEU_uwu"
      },
      "execution_count": null,
      "outputs": []
    },
    {
      "cell_type": "code",
      "source": [
        "# création d'un dataframe comprenant tous les matchs pour tous les championnats\n",
        "df_list = [df_france, df_espagne, df_italie, df_allemagne, df_angleterre, df_france_2, df_espagne_2, df_italie_2, df_allemagne_2, df_angleterre_2]\n",
        "df_total = pd.concat(df_list)\n",
        "df_total.reset_index(inplace=True)"
      ],
      "metadata": {
        "id": "z_dmhNvbDABX"
      },
      "execution_count": null,
      "outputs": []
    },
    {
      "cell_type": "code",
      "source": [
        "# ajout d'une colonne \"Pays\" pour chaque championnat\n",
        "for i in range(0, len(df_total)):\n",
        "  df_total.at[i, 'Pays']='0'\n",
        "\n",
        "  if df_total.at[i, 'Championnat']=='F1' or df_total.at[i, 'Championnat']=='F2' :\n",
        "    df_total.at[i, 'Pays']='France'\n",
        "  if df_total.at[i, 'Championnat']=='SP1' or df_total.at[i, 'Championnat']=='SP2' :\n",
        "    df_total.at[i, 'Pays']='Espagne'\n",
        "  if df_total.at[i, 'Championnat']=='G1' or df_total.at[i, 'Championnat']=='G2' :\n",
        "    df_total.at[i, 'Pays']='Allemagnee'\n",
        "  if df_total.at[i, 'Championnat']=='I1' or df_total.at[i, 'Championnat']=='I2' :\n",
        "    df_total.at[i, 'Pays']='Italie'\n",
        "  if df_total.at[i, 'Championnat']=='E0' or df_total.at[i, 'Championnat']=='E1' :\n",
        "    df_total.at[i, 'Pays']='Angleterre'\n",
        "   "
      ],
      "metadata": {
        "id": "m7y8qazkMZaN"
      },
      "execution_count": null,
      "outputs": []
    },
    {
      "cell_type": "code",
      "source": [
        "# enregistrement du dataframe obtenu au format csv\n",
        "path_drive='/content/drive/MyDrive/'\n",
        "df_total.to_csv(path_drive +'df_total.csv', index=False)"
      ],
      "metadata": {
        "id": "G4KnuMg1LUjt"
      },
      "execution_count": null,
      "outputs": []
    }
  ],
  "metadata": {
    "colab": {
      "collapsed_sections": [],
      "name": "Data Analyst Foot - Recupération des données - Github",
      "provenance": [],
      "mount_file_id": "1KnOLouxUPgx8amlggICmpYxmfXJHnAVG",
      "authorship_tag": "ABX9TyNObuiasdttu8hFyt4c+SVp",
      "include_colab_link": true
    },
    "kernelspec": {
      "display_name": "Python 3",
      "name": "python3"
    }
  },
  "nbformat": 4,
  "nbformat_minor": 0
}